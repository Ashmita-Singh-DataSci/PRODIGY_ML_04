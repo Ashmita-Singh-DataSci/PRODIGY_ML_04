{
 "cells": [
  {
   "cell_type": "code",
   "execution_count": 1,
   "id": "eedf9879-3bec-49e0-83ee-591ec5efae16",
   "metadata": {},
   "outputs": [
    {
     "data": {
      "text/plain": [
       "'\\nTASK 4:\\n\\nDevelop a hand gesture recognition model that can accurately identify and \\nclassify different hand gestures from image or video data, \\nenabling intuitive human-computer interaction and gesture-based control systems.\\n\\n'"
      ]
     },
     "execution_count": 1,
     "metadata": {},
     "output_type": "execute_result"
    }
   ],
   "source": [
    "'''\n",
    "TASK 4:\n",
    "\n",
    "Develop a hand gesture recognition model that can accurately identify and \n",
    "classify different hand gestures from image or video data, \n",
    "enabling intuitive human-computer interaction and gesture-based control systems.\n",
    "\n",
    "'''"
   ]
  },
  {
   "cell_type": "code",
   "execution_count": 2,
   "id": "e5637a4d-4147-48c6-aa81-edb23320a51a",
   "metadata": {},
   "outputs": [],
   "source": [
    "import os\n",
    "import tensorflow as tf\n",
    "from tensorflow.keras import layers, models\n",
    "import matplotlib.pyplot as plt\n",
    "\n",
    "import shutil\n",
    "from sklearn.model_selection import train_test_split"
   ]
  },
  {
   "cell_type": "code",
   "execution_count": 3,
   "id": "f5983b22-c2f7-4298-bdfd-8ad67416cabd",
   "metadata": {},
   "outputs": [
    {
     "name": "stdout",
     "output_type": "stream",
     "text": [
      "['00', '01', '02', '03', '04', '05', '06', '07', '08', '09']\n"
     ]
    }
   ],
   "source": [
    "#After downloading the dataset and extraction, define the path\n",
    "PATH = r'C:\\Users\\ASUS\\ProdigyInfoTech Projects\\leapGestRecog'\n",
    "print(os.listdir(PATH))"
   ]
  },
  {
   "cell_type": "code",
   "execution_count": 4,
   "id": "3e84cdfd-9baf-4308-a184-95616de32463",
   "metadata": {},
   "outputs": [
    {
     "data": {
      "text/plain": [
       "10"
      ]
     },
     "execution_count": 4,
     "metadata": {},
     "output_type": "execute_result"
    }
   ],
   "source": [
    "len(os.listdir(r'C:\\Users\\ASUS\\ProdigyInfoTech Projects\\leapGestRecog\\00'))"
   ]
  },
  {
   "cell_type": "code",
   "execution_count": 5,
   "id": "63c57c4e-1a1a-437f-a411-5fafe5bb4660",
   "metadata": {},
   "outputs": [
    {
     "name": "stdout",
     "output_type": "stream",
     "text": [
      "Folder: 01_palm, Item Count: 202\n",
      "Folder: 02_l, Item Count: 200\n",
      "Folder: 03_fist, Item Count: 200\n",
      "Folder: 04_fist_moved, Item Count: 200\n",
      "Folder: 05_thumb, Item Count: 200\n",
      "Folder: 06_index, Item Count: 200\n",
      "Folder: 07_ok, Item Count: 200\n",
      "Folder: 08_palm_moved, Item Count: 200\n",
      "Folder: 09_c, Item Count: 200\n",
      "Folder: 10_down, Item Count: 200\n"
     ]
    }
   ],
   "source": [
    "#Function to get item count of each folder in folder 00\n",
    "def get_folder_item_count(folder_path):\n",
    "    item_count = 0\n",
    "    for dirpath, dirnames, filenames in os.walk(folder_path):\n",
    "        item_count += len(dirnames) + len(filenames)\n",
    "    return item_count\n",
    "\n",
    "def calculate_folder_item_counts(root_folder):\n",
    "    folder_item_counts = {}\n",
    "    for folder_name in os.listdir(root_folder):\n",
    "        folder_path = os.path.join(root_folder, folder_name)\n",
    "        if os.path.isdir(folder_path):\n",
    "            folder_item_counts[folder_name] = get_folder_item_count(folder_path)\n",
    "    return folder_item_counts\n",
    "\n",
    "\n",
    "root_folder = r'C:\\Users\\ASUS\\ProdigyInfoTech Projects\\leapGestRecog\\00'  \n",
    "folder_item_counts = calculate_folder_item_counts(root_folder)\n",
    "for folder, count in folder_item_counts.items():\n",
    "    print(f\"Folder: {folder}, Item Count: {count}\")\n",
    "    "
   ]
  },
  {
   "cell_type": "code",
   "execution_count": 6,
   "id": "736393d6-f48f-4d3f-a175-1e651401c956",
   "metadata": {},
   "outputs": [
    {
     "name": "stdout",
     "output_type": "stream",
     "text": [
      "Dataset preparation complete with hard links.\n"
     ]
    }
   ],
   "source": [
    "# Define the root directory of dataset\n",
    "root_dir = r'C:\\Users\\ASUS\\ProdigyInfoTech Projects\\leapGestRecog'\n",
    "train_dir = r'C:\\Users\\ASUS\\ProdigyInfoTech ProjectsleapGestRecog\\train'\n",
    "val_dir = r'C:\\Users\\ASUS\\ProdigyInfoTech ProjectsleapGestRecog\\val'\n",
    "\n",
    "# Create directories if they don't exist\n",
    "os.makedirs(train_dir, exist_ok=True)\n",
    "os.makedirs(val_dir, exist_ok=True)\n",
    "\n",
    "# Initialize lists to hold image paths and labels\n",
    "image_paths = []\n",
    "labels = []\n",
    "\n",
    "# Traverse the directory\n",
    "for person_folder in os.listdir(root_dir):\n",
    "    person_folder_path = os.path.join(root_dir, person_folder)\n",
    "    if os.path.isdir(person_folder_path):\n",
    "        for class_folder in os.listdir(person_folder_path):\n",
    "            class_folder_path = os.path.join(person_folder_path, class_folder)\n",
    "            if os.path.isdir(class_folder_path):\n",
    "                for img in os.listdir(class_folder_path):\n",
    "                    img_path = os.path.join(class_folder_path, img)\n",
    "                    if os.path.isfile(img_path):\n",
    "                        image_paths.append(img_path)\n",
    "                        labels.append(class_folder)  # Use class folder name as the label\n",
    "\n",
    "# Split the data into training and validation sets\n",
    "train_paths, val_paths, train_labels, val_labels = train_test_split(image_paths, labels, test_size=0.2, stratify=labels)\n",
    "\n",
    "# Helper function to create hard links\n",
    "def create_hard_links(paths, labels, dest_dir):\n",
    "    for img_path, label in zip(paths, labels):\n",
    "        label_dir = os.path.join(dest_dir, label)\n",
    "        os.makedirs(label_dir, exist_ok=True)\n",
    "        hard_link_path = os.path.join(label_dir, os.path.basename(img_path))\n",
    "        if not os.path.exists(hard_link_path):\n",
    "            os.link(img_path, hard_link_path)\n",
    "\n",
    "# Create hard links for training and validation sets\n",
    "create_hard_links(train_paths, train_labels, train_dir)\n",
    "create_hard_links(val_paths, val_labels, val_dir)\n",
    "\n",
    "print(\"Dataset preparation complete with hard links.\")\n"
   ]
  },
  {
   "cell_type": "code",
   "execution_count": 7,
   "id": "41d1510f-a193-4f5b-bc4e-1e2d3f511f5b",
   "metadata": {},
   "outputs": [
    {
     "name": "stdout",
     "output_type": "stream",
     "text": [
      "Verifying training set:\n",
      "Class 01_palm has 1600 images.\n",
      "Class 02_l has 1600 images.\n",
      "Class 03_fist has 1600 images.\n",
      "Class 04_fist_moved has 1600 images.\n",
      "Class 05_thumb has 1600 images.\n",
      "Class 06_index has 1600 images.\n",
      "Class 07_ok has 1600 images.\n",
      "Class 08_palm_moved has 1600 images.\n",
      "Class 09_c has 1600 images.\n",
      "Class 10_down has 1600 images.\n",
      "\n",
      "Verifying validation set:\n",
      "Class 01_palm has 719 images.\n",
      "Class 02_l has 732 images.\n",
      "Class 03_fist has 712 images.\n",
      "Class 04_fist_moved has 706 images.\n",
      "Class 05_thumb has 720 images.\n",
      "Class 06_index has 731 images.\n",
      "Class 07_ok has 721 images.\n",
      "Class 08_palm_moved has 708 images.\n",
      "Class 09_c has 716 images.\n",
      "Class 10_down has 717 images.\n"
     ]
    }
   ],
   "source": [
    "#Function to verifyy directory's structure\n",
    "def verify_structure(directory):\n",
    "    for class_folder in os.listdir(directory):\n",
    "        class_folder_path = os.path.join(directory, class_folder)\n",
    "        if os.path.isdir(class_folder_path):\n",
    "            images = os.listdir(class_folder_path)\n",
    "            print(f'Class {class_folder} has {len(images)} images.')\n",
    "\n",
    "print(\"Verifying training set:\")\n",
    "verify_structure(train_dir)\n",
    "\n",
    "print(\"\\nVerifying validation set:\")\n",
    "verify_structure(val_dir)\n"
   ]
  },
  {
   "cell_type": "code",
   "execution_count": 8,
   "id": "72ea7b74-6666-49bb-84aa-b4854d26d755",
   "metadata": {},
   "outputs": [],
   "source": [
    "# Define function to load and preprocess images\n",
    "def load_image(img_path):\n",
    "    img = tf.io.read_file(img_path)\n",
    "    img = tf.image.decode_jpeg(img, channels=3)\n",
    "    img = tf.image.resize(img, [180, 180])  \n",
    "    img = tf.image.per_image_standardization(img)\n",
    "    return img\n",
    "\n",
    "def load_and_label_image(img_path, label):\n",
    "    img = load_image(img_path)\n",
    "    return img, label"
   ]
  },
  {
   "cell_type": "code",
   "execution_count": 9,
   "id": "16c1a3d0-b9ed-495d-a42e-9a133c5c3704",
   "metadata": {},
   "outputs": [],
   "source": [
    "# Create datasets for training and validation\n",
    "def create_dataset(img_paths, labels, batch_size=128):\n",
    "    label_to_index = {label: index for index, label in enumerate(set(labels))}\n",
    "    labels = [label_to_index[label] for label in labels]\n",
    "\n",
    "    dataset = tf.data.Dataset.from_tensor_slices((img_paths, labels))\n",
    "    dataset = dataset.map(load_and_label_image)\n",
    "    dataset = dataset.shuffle(buffer_size=len(img_paths))\n",
    "    dataset = dataset.batch(batch_size)\n",
    "    dataset = dataset.prefetch(buffer_size=tf.data.experimental.AUTOTUNE)\n",
    "    return dataset\n"
   ]
  },
  {
   "cell_type": "code",
   "execution_count": 10,
   "id": "627d161b-a0b8-42fa-9b88-3a995200b4de",
   "metadata": {},
   "outputs": [],
   "source": [
    "train_dataset = create_dataset(train_paths, train_labels)\n",
    "val_dataset = create_dataset(val_paths, val_labels)"
   ]
  },
  {
   "cell_type": "code",
   "execution_count": 11,
   "id": "61b2867d-5ae5-47b5-8359-3ecc7357ad79",
   "metadata": {},
   "outputs": [
    {
     "name": "stdout",
     "output_type": "stream",
     "text": [
      "Train batch - Images: (128, 180, 180, 3) Labels: tf.Tensor(\n",
      "[3 8 2 3 9 2 4 8 1 2 7 7 6 5 7 9 3 8 6 1 3 4 3 6 8 5 4 2 8 0 3 2 6 0 2 7 0\n",
      " 3 7 3 2 3 2 2 0 9 0 4 5 0 7 5 1 4 6 4 3 7 5 1 9 7 3 0 1 2 8 6 7 1 4 6 6 7\n",
      " 0 0 0 5 4 2 3 5 1 5 2 2 9 2 1 1 3 2 3 3 6 6 5 4 0 9 2 7 8 5 8 6 1 6 1 2 4\n",
      " 5 1 3 9 4 4 6 2 0 2 3 0 4 2 5 4 9], shape=(128,), dtype=int32)\n",
      "Validation batch - Images: (128, 180, 180, 3) Labels: tf.Tensor(\n",
      "[1 9 1 9 9 2 3 6 0 6 5 6 3 1 3 9 4 6 0 8 9 3 9 6 5 1 1 2 3 1 1 6 0 7 4 4 5\n",
      " 7 3 8 8 0 6 3 7 0 1 5 5 9 3 0 7 8 8 1 8 2 3 4 1 8 0 1 3 3 6 6 7 2 2 8 4 7\n",
      " 7 6 9 2 7 3 3 0 3 7 8 3 8 9 2 0 6 3 6 5 0 2 9 8 4 6 9 1 8 2 8 5 9 2 2 1 1\n",
      " 3 9 9 1 8 5 9 0 2 7 2 6 8 7 7 2 6], shape=(128,), dtype=int32)\n"
     ]
    }
   ],
   "source": [
    "# Print dataset info\n",
    "for images, labels in train_dataset.take(1):\n",
    "    print(\"Train batch - Images:\", images.shape, \"Labels:\", labels)\n",
    "for images, labels in val_dataset.take(1):\n",
    "     print(\"Validation batch - Images:\", images.shape, \"Labels:\", labels)"
   ]
  },
  {
   "cell_type": "code",
   "execution_count": 12,
   "id": "96b7eba2-6903-4af2-8e6c-172bb4355d92",
   "metadata": {},
   "outputs": [],
   "source": [
    "# Making the model"
   ]
  },
  {
   "cell_type": "code",
   "execution_count": 13,
   "id": "c3d4278d-ece8-42a6-a906-b159e0e3ca91",
   "metadata": {},
   "outputs": [],
   "source": [
    "model = models.Sequential([\n",
    "    layers.Conv2D(32, (3, 3), activation='relu', input_shape=(180, 180, 3)),\n",
    "    layers.MaxPooling2D((2, 2)),\n",
    "    layers.Conv2D(64, (3, 3), activation='relu'),\n",
    "    layers.MaxPooling2D((2, 2)),\n",
    "    layers.Conv2D(128, (3, 3), activation='relu'),\n",
    "    layers.MaxPooling2D((2, 2)),\n",
    "    layers.Flatten(),\n",
    "    layers.Dense(128, activation='relu'),\n",
    "    layers.Dense(len(set(train_labels)), activation='softmax') \n",
    "])\n"
   ]
  },
  {
   "cell_type": "code",
   "execution_count": 14,
   "id": "503c7d4f-907f-4f70-878d-dc5f6248e01f",
   "metadata": {},
   "outputs": [],
   "source": [
    "model.compile(optimizer='adam',\n",
    "              loss='sparse_categorical_crossentropy',\n",
    "              metrics=['accuracy'])"
   ]
  },
  {
   "cell_type": "code",
   "execution_count": 15,
   "id": "bd87966c-23b1-4e37-89f9-2b52ed1c570d",
   "metadata": {},
   "outputs": [
    {
     "name": "stdout",
     "output_type": "stream",
     "text": [
      "Model: \"sequential\"\n",
      "_________________________________________________________________\n",
      " Layer (type)                Output Shape              Param #   \n",
      "=================================================================\n",
      " conv2d (Conv2D)             (None, 178, 178, 32)      896       \n",
      "                                                                 \n",
      " max_pooling2d (MaxPooling2D  (None, 89, 89, 32)       0         \n",
      " )                                                               \n",
      "                                                                 \n",
      " conv2d_1 (Conv2D)           (None, 87, 87, 64)        18496     \n",
      "                                                                 \n",
      " max_pooling2d_1 (MaxPooling  (None, 43, 43, 64)       0         \n",
      " 2D)                                                             \n",
      "                                                                 \n",
      " conv2d_2 (Conv2D)           (None, 41, 41, 128)       73856     \n",
      "                                                                 \n",
      " max_pooling2d_2 (MaxPooling  (None, 20, 20, 128)      0         \n",
      " 2D)                                                             \n",
      "                                                                 \n",
      " flatten (Flatten)           (None, 51200)             0         \n",
      "                                                                 \n",
      " dense (Dense)               (None, 128)               6553728   \n",
      "                                                                 \n",
      " dense_1 (Dense)             (None, 10)                1290      \n",
      "                                                                 \n",
      "=================================================================\n",
      "Total params: 6,648,266\n",
      "Trainable params: 6,648,266\n",
      "Non-trainable params: 0\n",
      "_________________________________________________________________\n"
     ]
    }
   ],
   "source": [
    "model.summary()"
   ]
  },
  {
   "cell_type": "code",
   "execution_count": 16,
   "id": "e63b91e4-a856-4030-bc79-a30cd8b627de",
   "metadata": {},
   "outputs": [
    {
     "name": "stdout",
     "output_type": "stream",
     "text": [
      "Epoch 1/10\n",
      "125/125 [==============================] - 48s 198ms/step - loss: 0.3439 - accuracy: 0.8966 - val_loss: 0.0134 - val_accuracy: 0.9977\n",
      "Epoch 2/10\n",
      "125/125 [==============================] - 35s 190ms/step - loss: 0.0068 - accuracy: 0.9981 - val_loss: 0.0039 - val_accuracy: 0.9987\n",
      "Epoch 3/10\n",
      "125/125 [==============================] - 34s 192ms/step - loss: 0.0019 - accuracy: 0.9996 - val_loss: 0.0021 - val_accuracy: 0.9998\n",
      "Epoch 4/10\n",
      "125/125 [==============================] - 35s 196ms/step - loss: 8.0606e-05 - accuracy: 1.0000 - val_loss: 0.0014 - val_accuracy: 0.9995\n",
      "Epoch 5/10\n",
      "125/125 [==============================] - 36s 190ms/step - loss: 1.9357e-05 - accuracy: 1.0000 - val_loss: 0.0015 - val_accuracy: 0.9995\n",
      "Epoch 6/10\n",
      "125/125 [==============================] - 35s 191ms/step - loss: 1.1676e-05 - accuracy: 1.0000 - val_loss: 0.0015 - val_accuracy: 0.9995\n",
      "Epoch 7/10\n",
      "125/125 [==============================] - 36s 192ms/step - loss: 8.1175e-06 - accuracy: 1.0000 - val_loss: 0.0015 - val_accuracy: 0.9995\n",
      "Epoch 8/10\n",
      "125/125 [==============================] - 36s 189ms/step - loss: 6.0409e-06 - accuracy: 1.0000 - val_loss: 0.0016 - val_accuracy: 0.9995\n",
      "Epoch 9/10\n",
      "125/125 [==============================] - 35s 192ms/step - loss: 4.7194e-06 - accuracy: 1.0000 - val_loss: 0.0016 - val_accuracy: 0.9995\n",
      "Epoch 10/10\n",
      "125/125 [==============================] - 36s 194ms/step - loss: 3.7854e-06 - accuracy: 1.0000 - val_loss: 0.0016 - val_accuracy: 0.9995\n"
     ]
    }
   ],
   "source": [
    "#Training the model\n",
    "history = model.fit(\n",
    "    train_dataset,\n",
    "    validation_data=val_dataset,\n",
    "    epochs=10,  \n",
    "    verbose=1\n",
    ")"
   ]
  },
  {
   "cell_type": "code",
   "execution_count": 17,
   "id": "96b1c695-bb9c-4b5c-9e6a-57b31dce32b1",
   "metadata": {},
   "outputs": [
    {
     "data": {
      "image/png": "[encoded data removed]",
      "text/plain": [
       "<Figure size 800x400 with 2 Axes>"
      ]
     },
     "metadata": {},
     "output_type": "display_data"
    }
   ],
   "source": [
    "acc = history.history['accuracy']\n",
    "val_acc = history.history['val_accuracy']\n",
    "\n",
    "loss = history.history['loss']\n",
    "val_loss = history.history['val_loss']\n",
    "\n",
    "epochs = range(1, len(acc) + 1)\n",
    "\n",
    "plt.figure(figsize=(8, 4))\n",
    "plt.subplot(1, 2, 1)\n",
    "plt.plot(epochs, acc, label='Training Accuracy')\n",
    "plt.plot(epochs, val_acc, label='Validation Accuracy')\n",
    "plt.legend(loc='lower right')\n",
    "plt.title('Training and Validation Accuracy')\n",
    "\n",
    "plt.subplot(1, 2, 2)\n",
    "plt.plot(epochs, loss, label='Training Loss')\n",
    "plt.plot(epochs, val_loss, label='Validation Loss')\n",
    "plt.legend(loc='upper right')\n",
    "plt.title('Training and Validation Loss')\n",
    "plt.show()"
   ]
  },
  {
   "cell_type": "code",
   "execution_count": null,
   "id": "4f48598b-7aa2-46fd-a7b0-219d1e4eb92c",
   "metadata": {},
   "outputs": [],
   "source": []
  }
 ],
 "metadata": {
  "kernelspec": {
   "display_name": "Python 3 (ipykernel)",
   "language": "python",
   "name": "python3"
  },
  "language_info": {
   "codemirror_mode": {
    "name": "ipython",
    "version": 3
   },
   "file_extension": ".py",
   "mimetype": "text/x-python",
   "name": "python",
   "nbconvert_exporter": "python",
   "pygments_lexer": "ipython3",
   "version": "3.8.20"
  }
 },
 "nbformat": 4,
 "nbformat_minor": 5
}
